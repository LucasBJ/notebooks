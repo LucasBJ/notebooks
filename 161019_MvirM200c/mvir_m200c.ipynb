{
 "cells": [
  {
   "cell_type": "code",
   "execution_count": 44,
   "metadata": {
    "collapsed": false
   },
   "outputs": [],
   "source": [
    "import numpy as np\n",
    "from colossus.cosmology import cosmology\n",
    "from colossus.halo.mass_adv import changeMassDefinitionCModel\n",
    "\n",
    "# define a vector of cosmological parameters:    \n",
    "my_cosmo = {'flat': True, 'H0': 70.0, 'Om0': 0.27, 'Ob0': 0.045714, 'sigma8': 0.82, 'ns': 0.96}\n",
    "# set my_cosmo to be the current cosmology\t\n",
    "cosmo = cosmology.setCosmology('my_cosmo', my_cosmo)\n",
    "cosmo.interpolation = True\n",
    "\n",
    "z = np.arange(0., 3., 0.1)\n",
    "\n",
    "lMvir = np.arange(8., 16.0, 0.1)\n",
    "Mvir = 10.**lMvir\n",
    "\n",
    "fname = \"m200m_m200c\"\n",
    "mout = open(fname+\"_format.dat\",\"w\")\n",
    "mout.write('# 1st column = Mvir (/h Msun), other columns = M200c (/h Msun) for z=[0, 3] with steps of 0.1  \\n')\n",
    "mout.write('# Om_m=%.3f,  h=%.2f,  Om_L=%.3f\\n'%(cosmo.Om0, cosmo.H0/100., 1.-cosmo.Om0))\n",
    "mout.write('#\\n')\n",
    "mout.close()\n",
    "outarr = np.empty([np.shape(Mvir)[0], np.shape(z)[0]+1], dtype=float)\n",
    "for i, mvir in enumerate(Mvir):\n",
    "    outarr[i,0] = mvir\n",
    "    for j, zd in enumerate(z):\n",
    "        M200c, R200c, c200c = changeMassDefinitionCModel(mvir, zd, '200m', '200c', profile='nfw', c_model='diemer15') \n",
    "        outarr[i,j+1] = M200c            \n",
    "\n",
    "np.set_printoptions(precision=3)\n",
    "\n",
    "np.savetxt(fname+\".dat\", outarr, fmt='%.3e', delimiter=' ', newline='\\n', header='', footer='', comments='# ')\n"
   ]
  },
  {
   "cell_type": "code",
   "execution_count": null,
   "metadata": {
    "collapsed": true
   },
   "outputs": [],
   "source": []
  }
 ],
 "metadata": {
  "kernelspec": {
   "display_name": "Python 2",
   "language": "python",
   "name": "python2"
  },
  "language_info": {
   "codemirror_mode": {
    "name": "ipython",
    "version": 2
   },
   "file_extension": ".py",
   "mimetype": "text/x-python",
   "name": "python",
   "nbconvert_exporter": "python",
   "pygments_lexer": "ipython2",
   "version": "2.7.10"
  }
 },
 "nbformat": 4,
 "nbformat_minor": 0
}
