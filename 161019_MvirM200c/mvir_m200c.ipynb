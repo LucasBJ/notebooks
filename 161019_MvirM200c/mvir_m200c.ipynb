{
 "cells": [
  {
   "cell_type": "code",
   "execution_count": 49,
   "metadata": {
    "collapsed": false
   },
   "outputs": [
    {
     "ename": "Exception",
     "evalue": "Could not determine x where the density threshold is satisfied.",
     "output_type": "error",
     "traceback": [
      "\u001b[1;31m---------------------------------------------------------------------------\u001b[0m",
      "\u001b[1;31mException\u001b[0m                                 Traceback (most recent call last)",
      "\u001b[1;32m<ipython-input-49-656928988eef>\u001b[0m in \u001b[0;36m<module>\u001b[1;34m()\u001b[0m\n\u001b[0;32m     21\u001b[0m \u001b[1;32mfor\u001b[0m \u001b[0mi\u001b[0m\u001b[1;33m,\u001b[0m \u001b[0mmvir\u001b[0m \u001b[1;32min\u001b[0m \u001b[0menumerate\u001b[0m\u001b[1;33m(\u001b[0m\u001b[0mMvir\u001b[0m\u001b[1;33m)\u001b[0m\u001b[1;33m:\u001b[0m\u001b[1;33m\u001b[0m\u001b[0m\n\u001b[0;32m     22\u001b[0m     \u001b[0mcvir\u001b[0m \u001b[1;33m=\u001b[0m \u001b[1;36m4.\u001b[0m\u001b[1;33m\u001b[0m\u001b[0m\n\u001b[1;32m---> 23\u001b[1;33m     \u001b[0mM200c\u001b[0m\u001b[1;33m,\u001b[0m \u001b[0mR200c\u001b[0m\u001b[1;33m,\u001b[0m \u001b[0mc200c\u001b[0m \u001b[1;33m=\u001b[0m \u001b[0mchangeMassDefinition\u001b[0m\u001b[1;33m(\u001b[0m\u001b[0mmvir\u001b[0m\u001b[1;33m,\u001b[0m \u001b[0mcvir\u001b[0m\u001b[1;33m,\u001b[0m \u001b[0mz\u001b[0m\u001b[1;33m,\u001b[0m \u001b[1;34m'vir'\u001b[0m\u001b[1;33m,\u001b[0m \u001b[1;34m'200c'\u001b[0m\u001b[1;33m,\u001b[0m \u001b[0mprofile\u001b[0m\u001b[1;33m=\u001b[0m\u001b[1;34m'nfw'\u001b[0m\u001b[1;33m)\u001b[0m\u001b[1;33m\u001b[0m\u001b[0m\n\u001b[0m\u001b[0;32m     24\u001b[0m     \u001b[0moutarr\u001b[0m\u001b[1;33m[\u001b[0m\u001b[0mi\u001b[0m\u001b[1;33m,\u001b[0m\u001b[1;33m:\u001b[0m\u001b[1;33m]\u001b[0m \u001b[1;33m=\u001b[0m \u001b[0mM200c\u001b[0m\u001b[1;33m\u001b[0m\u001b[0m\n\u001b[0;32m     25\u001b[0m     \u001b[1;31m#np.set_printoptions(precision=3)\u001b[0m\u001b[1;33m\u001b[0m\u001b[1;33m\u001b[0m\u001b[0m\n",
      "\u001b[1;32mC:\\Users\\h2_sf\\AppData\\Local\\Enthought\\Canopy\\User\\lib\\site-packages\\colossus\\halo\\mass_defs.pyc\u001b[0m in \u001b[0;36mchangeMassDefinition\u001b[1;34m(M, c, z, mdef_in, mdef_out, profile)\u001b[0m\n\u001b[0;32m    187\u001b[0m \t\"\"\"\n\u001b[0;32m    188\u001b[0m \u001b[1;33m\u001b[0m\u001b[0m\n\u001b[1;32m--> 189\u001b[1;33m         \u001b[1;32mreturn\u001b[0m \u001b[0mpseudoEvolve\u001b[0m\u001b[1;33m(\u001b[0m\u001b[0mM\u001b[0m\u001b[1;33m,\u001b[0m \u001b[0mc\u001b[0m\u001b[1;33m,\u001b[0m \u001b[0mz\u001b[0m\u001b[1;33m,\u001b[0m \u001b[0mmdef_in\u001b[0m\u001b[1;33m,\u001b[0m \u001b[0mz\u001b[0m\u001b[1;33m,\u001b[0m \u001b[0mmdef_out\u001b[0m\u001b[1;33m,\u001b[0m \u001b[0mprofile\u001b[0m \u001b[1;33m=\u001b[0m \u001b[0mprofile\u001b[0m\u001b[1;33m)\u001b[0m\u001b[1;33m\u001b[0m\u001b[0m\n\u001b[0m\u001b[0;32m    190\u001b[0m \u001b[1;33m\u001b[0m\u001b[0m\n\u001b[0;32m    191\u001b[0m \u001b[1;31m###################################################################################################\u001b[0m\u001b[1;33m\u001b[0m\u001b[1;33m\u001b[0m\u001b[0m\n",
      "\u001b[1;32mC:\\Users\\h2_sf\\AppData\\Local\\Enthought\\Canopy\\User\\lib\\site-packages\\colossus\\halo\\mass_defs.pyc\u001b[0m in \u001b[0;36mpseudoEvolve\u001b[1;34m(M_i, c_i, z_i, mdef_i, z_f, mdef_f, profile, **profile_args)\u001b[0m\n\u001b[0;32m    123\u001b[0m                 \u001b[0mdensity_threshold\u001b[0m \u001b[1;33m=\u001b[0m \u001b[0mmass_so\u001b[0m\u001b[1;33m.\u001b[0m\u001b[0mdensityThreshold\u001b[0m\u001b[1;33m(\u001b[0m\u001b[0mz_f\u001b[0m\u001b[1;33m,\u001b[0m \u001b[0mmdef_f\u001b[0m\u001b[1;33m)\u001b[0m\u001b[1;33m\u001b[0m\u001b[0m\n\u001b[0;32m    124\u001b[0m                 \u001b[1;32mfor\u001b[0m \u001b[0mi\u001b[0m \u001b[1;32min\u001b[0m \u001b[0mrange\u001b[0m\u001b[1;33m(\u001b[0m\u001b[0mN\u001b[0m\u001b[1;33m)\u001b[0m\u001b[1;33m:\u001b[0m\u001b[1;33m\u001b[0m\u001b[0m\n\u001b[1;32m--> 125\u001b[1;33m                         \u001b[0mcnew\u001b[0m\u001b[1;33m[\u001b[0m\u001b[0mi\u001b[0m\u001b[1;33m]\u001b[0m \u001b[1;33m=\u001b[0m \u001b[0mprofile_nfw\u001b[0m\u001b[1;33m.\u001b[0m\u001b[0mNFWProfile\u001b[0m\u001b[1;33m.\u001b[0m\u001b[0mxDelta\u001b[0m\u001b[1;33m(\u001b[0m\u001b[0mrhos\u001b[0m\u001b[1;33m[\u001b[0m\u001b[0mi\u001b[0m\u001b[1;33m]\u001b[0m\u001b[1;33m,\u001b[0m \u001b[0mrs\u001b[0m\u001b[1;33m[\u001b[0m\u001b[0mi\u001b[0m\u001b[1;33m]\u001b[0m\u001b[1;33m,\u001b[0m \u001b[0mdensity_threshold\u001b[0m\u001b[1;33m,\u001b[0m \u001b[0mx_guess\u001b[0m \u001b[1;33m=\u001b[0m \u001b[0mc_i\u001b[0m\u001b[1;33m[\u001b[0m\u001b[0mi\u001b[0m\u001b[1;33m]\u001b[0m\u001b[1;33m)\u001b[0m\u001b[1;33m\u001b[0m\u001b[0m\n\u001b[0m\u001b[0;32m    126\u001b[0m                 \u001b[0mRnew\u001b[0m \u001b[1;33m=\u001b[0m \u001b[0mrs\u001b[0m \u001b[1;33m*\u001b[0m \u001b[0mcnew\u001b[0m\u001b[1;33m\u001b[0m\u001b[0m\n\u001b[0;32m    127\u001b[0m \u001b[1;33m\u001b[0m\u001b[0m\n",
      "\u001b[1;32mC:\\Users\\h2_sf\\AppData\\Local\\Enthought\\Canopy\\User\\lib\\site-packages\\colossus\\halo\\profile_nfw.pyc\u001b[0m in \u001b[0;36mxDelta\u001b[1;34m(cls, rhos, rs, density_threshold, x_guess)\u001b[0m\n\u001b[0;32m    281\u001b[0m                 \u001b[1;32mif\u001b[0m \u001b[0mx\u001b[0m \u001b[1;32mis\u001b[0m \u001b[0mNone\u001b[0m\u001b[1;33m:\u001b[0m\u001b[1;33m\u001b[0m\u001b[0m\n\u001b[0;32m    282\u001b[0m                         \u001b[0mmsg\u001b[0m \u001b[1;33m=\u001b[0m \u001b[1;34m'Could not determine x where the density threshold is satisfied.'\u001b[0m\u001b[1;33m\u001b[0m\u001b[0m\n\u001b[1;32m--> 283\u001b[1;33m                         \u001b[1;32mraise\u001b[0m \u001b[0mException\u001b[0m\u001b[1;33m(\u001b[0m\u001b[0mmsg\u001b[0m\u001b[1;33m)\u001b[0m\u001b[1;33m\u001b[0m\u001b[0m\n\u001b[0m\u001b[0;32m    284\u001b[0m \u001b[1;33m\u001b[0m\u001b[0m\n\u001b[0;32m    285\u001b[0m                 \u001b[1;32mreturn\u001b[0m \u001b[0mx\u001b[0m\u001b[1;33m\u001b[0m\u001b[0m\n",
      "\u001b[1;31mException\u001b[0m: Could not determine x where the density threshold is satisfied."
     ]
    }
   ],
   "source": [
    "import numpy as np\n",
    "from colossus.cosmology import cosmology\n",
    "from colossus.halo.mass_defs import changeMassDefinition\n",
    "# define a vector of cosmological parameters:    \n",
    "my_cosmo = {'flat': True, 'H0': 70.0, 'Om0': 0.27, 'Ob0': 0.045714, 'sigma8': 0.82, 'ns': 0.96}\n",
    "# set my_cosmo to be the current cosmology\t\n",
    "cosmo = cosmology.setCosmology('my_cosmo', my_cosmo)\n",
    "cosmo.interpolation = True\n",
    "\n",
    "z = np.arange(0., .5, 0.1)\n",
    "\n",
    "lMvir = np.arange(12., 13.0, 0.1)\n",
    "Mvir = 10.**lMvir\n",
    "\n",
    "#xiout = open(\"mvir_m200c.dat\",\"w\")\n",
    "#xiout.write('# 1st column = Mvir (/h Msun), other columns = M200c (/h Msun) for z=[0, 3] with steps of 0.1  \\n')\n",
    "#xiout.write('# Om_m=%.3f,  h=%.2f,  Om_L=%.3f'%(cosmo.Om0, cosmo.H0/100., 1.-cosmo.Om0))\n",
    "#xiout.write('#')\n",
    "\n",
    "outarr = np.empty([np.shape(Mvir)[0], np.shape(z)[0]+1], dtype=float)\n",
    "for i, mvir in enumerate(Mvir):\n",
    "    cvir = 4.\n",
    "    M200c, R200c, c200c = changeMassDefinition(mvir, cvir, z, 'vir', '200c', profile='nfw') \n",
    "    outarr[i,:] = M200c            \n",
    "    #np.set_printoptions(precision=3)\n",
    "    #xiout.write([mvir, M200c])\n",
    "\n",
    "#Mvir = np.hstack((Mvir,outarr))"
   ]
  },
  {
   "cell_type": "code",
   "execution_count": 45,
   "metadata": {
    "collapsed": false
   },
   "outputs": [
    {
     "name": "stdout",
     "output_type": "stream",
     "text": [
      "[[  7.532e+11   7.532e+11]\n",
      " [  9.482e+11   9.482e+11]\n",
      " [  1.194e+12   1.194e+12]\n",
      " [  1.503e+12   1.503e+12]\n",
      " [  1.892e+12   1.892e+12]\n",
      " [  2.382e+12   2.382e+12]\n",
      " [  2.998e+12   2.998e+12]\n",
      " [  3.775e+12   3.775e+12]\n",
      " [  4.752e+12   4.752e+12]\n",
      " [  5.982e+12   5.982e+12]]\n",
      "[  1.000e+12   1.259e+12   1.585e+12   1.995e+12   2.512e+12   3.162e+12\n",
      "   3.981e+12   5.012e+12   6.310e+12   7.943e+12]\n"
     ]
    }
   ],
   "source": [
    "print outarr\n",
    "print Mvir"
   ]
  },
  {
   "cell_type": "code",
   "execution_count": null,
   "metadata": {
    "collapsed": true
   },
   "outputs": [],
   "source": []
  }
 ],
 "metadata": {
  "kernelspec": {
   "display_name": "Python 2",
   "language": "python",
   "name": "python2"
  },
  "language_info": {
   "codemirror_mode": {
    "name": "ipython",
    "version": 2
   },
   "file_extension": ".py",
   "mimetype": "text/x-python",
   "name": "python",
   "nbconvert_exporter": "python",
   "pygments_lexer": "ipython2",
   "version": "2.7.10"
  }
 },
 "nbformat": 4,
 "nbformat_minor": 0
}
