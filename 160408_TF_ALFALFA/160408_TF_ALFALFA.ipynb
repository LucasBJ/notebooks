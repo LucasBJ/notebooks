{
 "cells": [
  {
   "cell_type": "markdown",
   "metadata": {},
   "source": [
    "### Baryonic Tully-Fisher relation"
   ]
  },
  {
   "cell_type": "markdown",
   "metadata": {},
   "source": [
    "Construct Tully-Fisher (Lr-Vcirc) or baryonic Tully-Fisher $M_*+M_{\\rm HI}$-Vcirc using ALFALFA a40 catalog and SDSS DR7 galaxies matched to it. We will use <a href=\"http://www.physics.upenn.edu/~ameert/SDSS_PhotDec/download/\">UPenn catalogs</a> with their model photometry fits to the SDSS DR7 main galaxy sample (<a href=\"http://adsabs.harvard.edu/abs/2015MNRAS.446.3943M\">Meert et al. 2015</a>). Place all fits files in the data/Meert2015_v2 subdirectory within the directory containing this notebook and other python code files. We will also use probabilities of morphological classes from Huertas-Company et al. (2011) that are supplied as part of this catalog.\n",
    "\n",
    "We will also need <a href=\"https://bitbucket.org/bdiemer/colossus/overview\"><tt>colossus</tt></a> - Benedikt Diemer's  python package containing useful routines for computing various cosmological quantities (distances, variances, power spectra, halo profiles, etc.)"
   ]
  },
  {
   "cell_type": "code",
   "execution_count": 5,
   "metadata": {
    "collapsed": false
   },
   "outputs": [
    {
     "name": "stdout",
     "output_type": "stream",
     "text": [
      "670722 galaxies in Meert et al. sample initially\n"
     ]
    }
   ],
   "source": [
    "import numpy as np\n",
    "import matplotlib.pyplot as plt\n",
    "from scipy import interpolate, stats\n",
    "\n",
    "from read_data import read_alfalfa\n",
    "from read_data import read_alfalfa_sdss_crosslist\n",
    "from read_data import alfalfa_sdss_crossmatch\n",
    "\n",
    "# read ALFALFA data and SDSS cross-listing table\n",
    "aalist   = read_alfalfa('data//a40.datafile1.txt');\n",
    "sdsslist = read_alfalfa_sdss_crosslist('data//a40.datafile3.txt')\n",
    "# cross-match the catalogs and perform basic cuts\n",
    "aatf, sdsstf = alfalfa_sdss_crossmatch(aalist, sdsslist)\n",
    "\n",
    "# read in the relevant data from Meert et al. (2015) catalogs\n",
    "from read_data import read_meert_catalog\n",
    "sdata, mdata, mnpdata, phot_r, mdatag, mnpdatag, morph = read_meert_catalog(phot_type = 3)\n",
    "\n",
    "#\n",
    "# match ALFALFA and SDSS catalogs using photoObjID\n",
    "#\n",
    "imatch = np.in1d(sdsstf['PhotoObjID'],sdata['objid'])\n",
    "imatch2 = np.in1d(sdata['objid'],sdsstf['PhotoObjID'])\n",
    "aatfmatch = aatf[imatch]; sdssmatch = sdsstf[imatch]\n",
    "datamatch = sdata[imatch2]; photmatch = phot_r[imatch2]; \n",
    "mdatamatch = mdata[imatch2]; mdatagmatch = mdatag[imatch2]; \n",
    "mnpdmatch = mnpdata[imatch2]; mnpdgmatch = mnpdatag[imatch2]; \n",
    "morphmatch = morph[imatch2]\n",
    "\n",
    "# import Benedikt Diemer's colossus package\n",
    "from colossus.cosmology import cosmology\n",
    "\n",
    "# set cosmology to the best values from 9-year WMAP data\n",
    "cosmo = cosmology.setCosmology('WMAP9')\n",
    "\n",
    "# extract relevand data\n",
    "# redshift and log10(HI mass)\n",
    "z = sdssmatch['zsdss']; lMHI = aatfmatch['logMsun']\n",
    "# compute luminosity distance in Mpc\n",
    "d_Lm = cosmo.luminosityDistance(z)/cosmo.h\n",
    "\n",
    "extm = mnpdmatch['extinction']; kcorr = mnpdmatch['kcorr']\n",
    "# abs. magnitude from the Meert et al. photometry using fit specified by phot_type above\n",
    "# corrected for extinction, evolution, and k-correction\n",
    "Mr = mdatamatch['m_tot'] - 5.0*np.log10(d_Lm/1e-5) - extm + 1.3*z - kcorr;\n",
    "gr = mdatagmatch['m_tot'] - mdatamatch['m_tot']  - mnpdgmatch['extinction'] + mnpdmatch['extinction']\n",
    "ur = sdssmatch['uminusr']\n",
    "ba = mdatamatch['ba_tot']\n",
    "cos2 = (np.power(ba,2)-0.13*0.13)/(1.0-0.13*0.13)\n",
    "sini = np.sqrt(1.0-cos2)\n",
    "# convert line width into rotation velocity (ostensibly)\n",
    "s = 0.5*aatfmatch['W50']/sini\n",
    "\n",
    "#\n",
    "# assigned probability for galaxy to be of particular type from Huertas-Company et al. 2011 classification\n",
    "#\n",
    "pSab = morphmatch['probaSab']; pScd = morphmatch['probaScd']; pS0  = morphmatch['probaS0']\n",
    "\n",
    "# maximize disks, get rid of likely S0's\n",
    "pdisk = 0.7\n",
    "indplot = (((pSab > pdisk) | (pScd > pdisk)) & (pS0<0.3))\n",
    "Mr = Mr[indplot]; s = s[indplot]; lMHI = lMHI[indplot]\n",
    "ur = ur[indplot]; gr = gr[indplot]\n",
    "Lr = np.power(10.,-0.4*(Mr-4.68))\n",
    "addHI = False\n",
    "if addHI:\n",
    "    # get the  r-band M/L ratio from color using \n",
    "    # linear mapping from (u-r) or (g-r) color from Table 7 of \n",
    "    # Bell et al. 2003, ApJS 149, 289 derived from SPS \n",
    "    #lMLr = -0.223 + 0.299*ur\n",
    "    lMLr = -0.306 + 1.097*gr\n",
    "    # convert Lr to stellar mass, add HI \n",
    "    Lr = np.clip(lMLr*Lr,1.e3,1.e15) + np.power(10.,lMHI)\n",
    "\n",
    "# now plot the relation\n",
    "#\n",
    "fig = plt.figure(figsize=(3, 3))\n",
    "plt.rc('font',size=11)\n",
    "\n",
    "if addHI:\n",
    "    plt.xlabel(r'$M_*+M_{\\mathrm{HI}}\\ (M_{\\odot})$')\n",
    "else:\n",
    "    plt.xlabel(r'$L_r$')\n",
    "plt.ylabel(r'$V_{\\rm rot}\\ (\\mathrm{km/s})$')\n",
    "plt.ylim(10.,700.); \n",
    "plt.xlim(1.e7, 3.e11);\n",
    "plt.yscale('log'); plt.xscale('log')\n",
    "\n",
    "from scipy.stats import binned_statistic\n",
    "cmed, ibedges, NMbins = binned_statistic(np.log10(Lr),s,statistic='median',bins=20)\n",
    "\n",
    "ibins = 0.5*(ibedges[1:] + ibedges[:-1])\n",
    "\n",
    "plt.scatter(Lr, s, marker='.', color='blue', s=0.75, alpha=0.5)\n",
    "plt.plot(10.**ibins,cmed,c='m',lw=4.0)\n",
    "\n",
    "def perc84(x):\n",
    "    return np.percentile(x,84.0)\n",
    "def perc16(x):\n",
    "    return np.percentile(x,16.0)\n",
    "    \n",
    "s16, ibedges, NMbins = binned_statistic(np.log10(Lr),s,statistic=perc16,bins=20)\n",
    "s84, ibedges, NMbins = binned_statistic(np.log10(Lr),s,statistic=perc84,bins=20)\n",
    "plt.plot(10.**ibins, s16,'--',c='m',lw=3.0)\n",
    "plt.plot(10.**ibins, s84,'--',c='m',lw=3.0)\n",
    "\n",
    "# plot the L~Vmax^a power law appropriate for a given relation\n",
    "x = np.linspace(6., 12., 100)\n",
    "if not addHI:\n",
    "    y = 85.*10**((x-9.)/4.3); plabel = '$L\\propto V^{4.3}$'\n",
    "else:\n",
    "    y = 65.*10**((x-9.)/3.3); plabel = '$M_*+M_{\\mathrm{HI}}\\propto V^{3.3}$'\n",
    "\n",
    "plt.plot(10.**x,y,'--', c='r', lw=3.0, label=plabel)\n",
    "\n",
    "plt.legend(frameon=False, fontsize=10, loc='upper left')\n",
    "plt.show()\n"
   ]
  },
  {
   "cell_type": "code",
   "execution_count": null,
   "metadata": {
    "collapsed": true
   },
   "outputs": [],
   "source": []
  }
 ],
 "metadata": {
  "kernelspec": {
   "display_name": "Python 2",
   "language": "python",
   "name": "python2"
  },
  "language_info": {
   "codemirror_mode": {
    "name": "ipython",
    "version": 2
   },
   "file_extension": ".py",
   "mimetype": "text/x-python",
   "name": "python",
   "nbconvert_exporter": "python",
   "pygments_lexer": "ipython2",
   "version": "2.7.10"
  }
 },
 "nbformat": 4,
 "nbformat_minor": 0
}
