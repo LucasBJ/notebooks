{
 "cells": [
  {
   "cell_type": "markdown",
   "metadata": {},
   "source": [
    "## Power law fit to the baryonic Tully-Fisher data"
   ]
  },
  {
   "cell_type": "markdown",
   "metadata": {},
   "source": [
    "Perform fits to the data of <a href=\"http://arxiv.org/abs/1602.09087\">Papastergis et al. 2016</a>"
   ]
  },
  {
   "cell_type": "code",
   "execution_count": 1,
   "metadata": {
    "collapsed": false
   },
   "outputs": [],
   "source": [
    "# setup notebook for inline figures\n",
    "%matplotlib inline\n",
    "\n",
    "import numpy as np\n",
    "\n",
    "# import pyplot and set some parameters to make plots prettier\n",
    "import matplotlib.pyplot as plt\n",
    "\n",
    "plt.rc(\"savefig\",dpi=175)\n",
    "plt.rc('text', usetex=True)\n",
    "plt.rc('font',size=9)\n",
    "plt.rc('xtick.major',pad=5); plt.rc('xtick.minor',pad=5)\n",
    "plt.rc('ytick.major',pad=5); plt.rc('ytick.minor',pad=5)\n"
   ]
  },
  {
   "cell_type": "code",
   "execution_count": 3,
   "metadata": {
    "collapsed": false
   },
   "outputs": [],
   "source": [
    "def MCMCsample(x, nparams=2, nwalkers=100, nRval=100, modelpdf = None, ipar_active = None, params=[]):\n",
    "    \"\"\"\n",
    "    MCMC sampler implementing the Goodman & Weare (2010) affine-invariant algorithm\n",
    "    inner loop is vectorized\n",
    "    \n",
    "    written by Andrey Kravtsov (2014-2016)\n",
    "    \"\"\"\n",
    "    \n",
    "    try:\n",
    "        import acor\n",
    "    except:\n",
    "        raise Exception(\"acor package is not installed!\")\n",
    "        \n",
    "    # parameters used to draw random number with the GW10 proposal distribution\n",
    "    ap = 2.0; api = 1.0/ap; asqri=1.0/np.sqrt(ap); afact=(ap-1.0)\n",
    "\n",
    "    # calculate effective number of parameters if some are specified to be fixed\n",
    "    ia = (ipar_active==1)\n",
    "    npareff = np.size(ipar_active[ia])\n",
    "    print \"starting sampling with %d active parameters of the total %d parameters\"%(npareff, nparams)\n",
    "    \n",
    "    # initialize some auxiliary arrays and variables \n",
    "    chain = []; Rval = []\n",
    "\n",
    "    naccept = 0; ntry = 0; nchain = 0\n",
    "    mw = np.zeros((nwalkers,npareff)); sw = np.zeros((nwalkers,npareff))\n",
    "    m = np.zeros(npareff); Wgr = np.zeros(npareff); Bgr = np.zeros(npareff); Rgr = np.zeros(npareff)\n",
    "    \n",
    "    mutx = []; taux = []\n",
    "    for i in range(npareff): \n",
    "        mutx.append([]); taux.append([])\n",
    "        Rval.append([])\n",
    "\n",
    "    gxo = np.zeros((2,nwalkers/2))\n",
    "    gxo[0,:] = modelpdf(x[0,:,:], params); gxo[1,:] = modelpdf(x[1,:,:], params)\n",
    "    converged = False;\n",
    "    while not converged:\n",
    "        # for parallelization (not implemented here but the MPI version is available)\n",
    "        # the walkers are split into two complementary sub-groups (see GW10)\n",
    "        for kd in range(2):\n",
    "            k = abs(kd-1)\n",
    "            # vectorized inner loop of walkers stretch move in the Goodman & Weare sampling algorithm\n",
    "            xchunk = x[k,:,:]\n",
    "            jcompl = np.random.randint(0,nwalkers/2,nwalkers/2)\n",
    "            xcompl = x[kd,jcompl,:]\n",
    "            gxold  = gxo[k,:]\n",
    "            zf= np.random.rand(nwalkers/2)   # the next few steps implement Goodman & Weare sampling algorithm\n",
    "            zf = zf * afact; zr = (1.0+zf)*(1.0+zf)*api\n",
    "            zrtile = np.transpose(np.tile(zr,(nparams,1))) # duplicate zr for nparams\n",
    "            xtry  = xcompl + zrtile*(xchunk-xcompl)\n",
    "            gxtry = modelpdf(xtry, params); gx    = gxold \n",
    "            gr   = gxtry - gx\n",
    "            iacc = np.where(gr>0.)\n",
    "            xchunk[iacc] = xtry[iacc]\n",
    "            gxold[iacc] = gxtry[iacc]\n",
    "            aprob = (npareff-1)*np.log(zr) + (gxtry - gx)\n",
    "            u = np.random.uniform(0.0,1.0,np.shape(xchunk)[0])        \n",
    "            iprob = np.where(aprob>np.log(u))\n",
    "            xchunk[iprob] = xtry[iprob]\n",
    "            gxold[iprob] = gxtry[iprob]\n",
    "            naccept += len(iprob[0])\n",
    "\n",
    "            x[k,:,ia] = np.transpose(xchunk[:,ia])\n",
    "            gxo[k,:] = gxold        \n",
    "            xdum = x[:,:,ia]\n",
    "\n",
    "            for i in range(nwalkers/2):\n",
    "                chain.append(np.array(xdum[k,i,:]))\n",
    "\n",
    "            for i in range(nwalkers/2):\n",
    "                mw[k*nwalkers/2+i,:] += xdum[k,i,:]\n",
    "                sw[k*nwalkers/2+i,:] += xdum[k,i,:]**2\n",
    "                ntry += 1\n",
    "\n",
    "        nchain += 1\n",
    "        \n",
    "        # compute means for the auto-correlation time estimate\n",
    "        for i in range(npareff):\n",
    "            mutx[i].append(np.sum(xdum[:,:,i])/(nwalkers))\n",
    "\n",
    "        # compute Gelman-Rubin indicator for all parameters\n",
    "        if ( nchain >= nwalkers/2 and nchain%nRval == 0):\n",
    "            # calculate Gelman & Rubin convergence indicator\n",
    "            mwc = mw/(nchain-1.0)\n",
    "            swc = sw/(nchain-1.0)-np.power(mwc,2)\n",
    "\n",
    "            for i in range(npareff):\n",
    "                # within chain variance\n",
    "                Wgr[i] = np.sum(swc[:,i])/nwalkers\n",
    "                # mean of the means over Nwalkers\n",
    "                m[i] = np.sum(mwc[:,i])/nwalkers\n",
    "                # between chain variance\n",
    "                Bgr[i] = nchain*np.sum(np.power(mwc[:,i]-m[i],2))/(nwalkers-1.0)\n",
    "                # Gelman-Rubin R factor\n",
    "                Rgr[i] = (1.0 - 1.0/nchain + Bgr[i]/Wgr[i]/nchain)*(nwalkers+1.0)/nwalkers - (nchain-1.0)/(nchain*nwalkers)\n",
    "                tacorx = acor.acor(mutx[i])[0]; taux[i].append(np.max(tacorx))\n",
    "                Rval[i].append(Rgr[i]-1.0)\n",
    "            print \"nchain=\",nchain\n",
    "            print \"R values for parameters:\", Rgr\n",
    "            print \"tcorr =\", np.max(tacorx)\n",
    "            if np.max(np.abs(Rgr-1.0)) < 0.01: converged = True\n",
    "        \n",
    "    print \"MCMC sampler generated \",ntry,\" samples using\", nwalkers,\" walkers\"\n",
    "    print \"with step acceptance ratio of\", 1.0*naccept/ntry\n",
    "        \n",
    "    # record integer auto-correlation time at the final iteration\n",
    "    nthin = int(tacorx)\n",
    "\n",
    "    return chain, Rval, nthin\n",
    "\n",
    "def MCMCsample_init(nparams=2, nwalkers=100, x0=None, step=None, ipar_active=None):\n",
    "    \"\"\"\n",
    "    distribute initial positions of walkers in an isotropic Gaussian around the initial point\n",
    "    \"\"\"\n",
    "    np.random.seed()\n",
    "    \n",
    "    # in this implementation the walkers are split into 2 subgroups and thus nwalkers must be divisible by 2\n",
    "    if nwalkers%2:\n",
    "        raise ValueError(\"MCMCsample_init: nwalkers must be divisible by 2!\")\n",
    "         \n",
    "    x = np.zeros([2,nwalkers/2,nparams])\n",
    "\n",
    "    for i in range(nparams):\n",
    "        x[:,:,i] = np.reshape(np.random.normal(x0[i],step[i],nwalkers),(2,nwalkers/2))\n",
    "    ina = (ipar_active==0)\n",
    "    if np.size(ina) > 0:\n",
    "        x[:,:,ina] = x0[ina]\n",
    "    return x\n"
   ]
  },
  {
   "cell_type": "code",
   "execution_count": 4,
   "metadata": {
    "collapsed": false
   },
   "outputs": [],
   "source": [
    "# likelihood for fitting the line to a set of points with the Gaussian scatter \n",
    "# and error bars in both variables (correlation between error bars \n",
    "# can be specified in covariance matrix elements c00, c01, c11\n",
    "# derived from the original version by Surhud More (2011)\n",
    "\n",
    "def prior(xd):\n",
    "    \"\"\"\n",
    "    defines parameter priors\n",
    "    \"\"\"\n",
    "    d0 = np.abs(xd[0]-4.0); p0 = 0.0\n",
    "    d2 = xd[2]; p2 = 0.0\n",
    "    d1 = np.abs(xd[1]); p1 = 0.0\n",
    "    if d0 < 5.0 : p0 = 1.0\n",
    "    if d1 < 5.0 : p1 = 1.0\n",
    "    if (d2 >= 0.0) & (d2 < 0.005) : p2 = 1.0\n",
    "    p = p0*p1*p2\n",
    "    if p > 0: \n",
    "        return np.log(p)\n",
    "    else:\n",
    "        return -100.\n",
    "\n",
    "def line_fit_vert_like (x, params=None): \n",
    "    \"\"\"\n",
    "    likelihood for a linear model for data with error bars in both directions \n",
    "    and intrinsic scatter in y direction\n",
    "    the merit function is also in y-direction (see d'Agostino 2005)\n",
    "    input: x - vector of parameters: \n",
    "           x[0] = slope m; x[1] = intercept c; x[2]=intrinsic scatter\n",
    "           params = [x, y, c00, c01, c11]            \n",
    "    \"\"\"\n",
    "    p = params; nw = np.shape(x)[0]; res = np.zeros(nw)\n",
    "    for i in range(nw):\n",
    "        dummy = x[i,2] + p[4] + x[i,0]**2*p[2]\n",
    "        res[i] = -0.5*(np.sum(np.log(dummy))+np.sum((p[1]-x[i,0]*p[0]-x[i,1])**2/dummy)) + prior(x[i,:])\n",
    "    return res\n",
    "\n",
    "\n",
    "def line_fit_like(x, params=None):\n",
    "     # merit function uses distance perpendicular to the model line\n",
    "     # x[0] = slope; x[1] = normalization; x[2] = scatter\n",
    "     # p = [x, y, c00, c01, c11] \n",
    "     p = params; nw = np.shape(x)[0]; res = np.zeros(nw)\n",
    "    \n",
    "     for i in range(nw):\n",
    "         r=np.sqrt(1.+x[i,0]*x[i,0]);\n",
    "         cth=1./r;\n",
    "         sth=x[i,0]/r;\n",
    "         Covtilde=p[2]*sth*sth-2*p[3]*sth*cth+p[4]*cth*cth;\n",
    "         d1 = (x[i,0]*p[0]-p[1]+x[i,1])/r;\n",
    "         sig1sq = x[i,2];\n",
    "         siginv1=1./(np.sqrt(2.0*np.pi*(Covtilde+sig1sq)));\n",
    "         res[i] = np.sum((np.log(siginv1)-0.5*d1**2.0/(Covtilde + sig1sq))) + prior(x[i,:]);\n",
    "     return res;"
   ]
  },
  {
   "cell_type": "code",
   "execution_count": 5,
   "metadata": {
    "collapsed": false,
    "scrolled": false
   },
   "outputs": [],
   "source": [
    "# read in Papastergis et al. 2016 BTFR data and prepare it for fits\n",
    "lms, elms, lmg, elmg, lmb, elmb, vrot, evrotl, evroth, wkurt = np.loadtxt(\"data/a_btfr.data.txt\", \n",
    "                                                                          delimiter=',', \n",
    "                                                                          usecols=(1,2,3,4,5,6,7,8,9,10), \n",
    "                                                                          unpack=True)\n",
    "evrot = 0.5*(evrotl+evroth)\n",
    "nex = -3 # exclude the same outliers as Papastergis et al. 2016\n",
    "if nex == 0:\n",
    "    vrot = np.log10(vrot); evrot = 0.5*np.log10((vrot + evroth)/(vrot-evrotl))\n",
    "elif nex < 0:\n",
    "    lmb = lmb[:nex]; elmb = elmb[:nex]; vrot = vrot[:nex]; \n",
    "    evrot = 0.5*np.log10((vrot + evroth[:nex])/(vrot-evrotl[:nex])); wkurt = wkurt[:nex]\n",
    "    vrot = np.log10(vrot)\n",
    "\n",
    "# pivot first\n",
    "y = lmb; ey = elmb; x = vrot; ex = evrot\n",
    "#x = lmb; ex = elmb; y = vrot; ey = evrot\n",
    "# sample with the cut in kurtosis\n",
    "wklim = -1.2 # could use this to cut the sample on the value of kurtosis\n",
    "ykc = lmb[wkurt<wklim]; eykc = elmb[wkurt<wklim]; xkc = vrot[wkurt<wklim]; exkc = evrot[wkurt<wklim]\n",
    "\n",
    "ax = np.sum(x/ex**2.0)/np.sum(1./ex**2.0); ay = np.sum(y/ey**2.0)/np.sum(1./ey**2.0)\n",
    "x = x - ax; y = y - ay\n",
    "xkc = xkc - ax; ykc = ykc - ay"
   ]
  },
  {
   "cell_type": "markdown",
   "metadata": {},
   "source": [
    "First, let's get parameters assuming fixed zero scatter in y direction "
   ]
  },
  {
   "cell_type": "code",
   "execution_count": 6,
   "metadata": {
    "collapsed": false
   },
   "outputs": [],
   "source": [
    "def mcmc_fit(x, y, ex, ey, pini=None, ipar_active=None, nwalkers=None, modelpdf=None):\n",
    "    # covariance matrix of errors\n",
    "    c00 = ex*ex; c01 = 0.; c11 = ey*ey\n",
    "    p = pini; params = [x, y, c00, c01, c11]\n",
    "    nparams = 3\n",
    "\n",
    "    x0 = np.array(p[0:nparams]); step = 0.1*np.array(np.abs(p[0:nparams]));\n",
    "    iz = (step == 0); step[iz] = 0.0001 \n",
    "    # define which parameters are active (=1), and which should stay fixed (=0)\n",
    "    \n",
    "    # initialize MCMC walkers\n",
    "    xwalk = MCMCsample_init(nparams=nparams, nwalkers=nwalkers, x0=x0, step=step, ipar_active=ipar_active)\n",
    "    \n",
    "    # run the sampler\n",
    "    nRval = 1000 # record Gelman-Rubin R indicator each nRval'th step\n",
    "    # now get the chain and how many values to thin based on the final auto-correlation time\n",
    "    chain, Rval, nthin = MCMCsample(xwalk, nparams=nparams, nwalkers=nwalkers, nRval=nRval, \n",
    "                                    modelpdf=modelpdf, params=params, ipar_active=ipar_active)\n",
    "    return chain, Rval, nthin\n"
   ]
  },
  {
   "cell_type": "markdown",
   "metadata": {},
   "source": [
    "First, let's do the case of scatter fixed at zero"
   ]
  },
  {
   "cell_type": "code",
   "execution_count": 7,
   "metadata": {
    "collapsed": false
   },
   "outputs": [
    {
     "name": "stdout",
     "output_type": "stream",
     "text": [
      "starting sampling with 2 active parameters of the total 3 parameters\n",
      "nchain= 1000\n",
      "R values for parameters: [ 0.82524723  1.03094377]\n",
      "tcorr = 15.5964366655\n",
      "nchain= 2000\n",
      "R values for parameters: [ 1.03651708  1.01693328]\n",
      "tcorr = 22.956257297\n",
      "nchain= 3000\n",
      "R values for parameters: [ 1.0155228   1.01133057]\n",
      "tcorr = 22.4415909161\n",
      "nchain= 4000\n",
      "R values for parameters: [ 1.00986685  1.00886723]\n",
      "tcorr = 23.2528218589\n",
      "MCMC sampler generated  800000  samples using 200  walkers\n",
      "with step acceptance ratio of 0.66036875\n"
     ]
    }
   ],
   "source": [
    "nwalkers = 200\n",
    "\n",
    "# m, c, sigma^2 [dex] - initial values\n",
    "m0 = 4.; c0 = -0.05; s2_0 = 0.; \n",
    "ipar_active = np.array([1, 1, 0])\n",
    "\n",
    "chain, Rval, nthin = mcmc_fit(x, y, ex, ey, pini=[m0, c0, s2_0], \n",
    "                              ipar_active=ipar_active, nwalkers=nwalkers, modelpdf=line_fit_like)\n",
    "\n",
    "# define the size of the burn-in region, as recommended by Sokal\n",
    "nburn = int(20*nwalkers*nthin)\n",
    "\n",
    "m = zip(*chain)[0]; c = zip(*chain)[1]; \n",
    "m_sfixed = m[nburn:]; c_sfixed = c[nburn:]; \n"
   ]
  },
  {
   "cell_type": "markdown",
   "metadata": {},
   "source": [
    "Now let's do scatter fixed to 0.05 dex, which is close to the best fit value when scatter is left free "
   ]
  },
  {
   "cell_type": "code",
   "execution_count": 8,
   "metadata": {
    "collapsed": false
   },
   "outputs": [
    {
     "name": "stdout",
     "output_type": "stream",
     "text": [
      "starting sampling with 2 active parameters of the total 3 parameters\n",
      "nchain= 1000\n",
      "R values for parameters: [ 1.04194734  1.03008694]\n",
      "tcorr = 12.90084315\n",
      "nchain= 2000\n",
      "R values for parameters: [ 1.01941495  1.01341053]\n",
      "tcorr = 7.95846419622\n",
      "nchain= 3000\n",
      "R values for parameters: [ 1.01272334  1.00855341]\n",
      "tcorr = 7.52946822408\n",
      "nchain= 4000\n",
      "R values for parameters: [ 1.00824456  1.00604758]\n",
      "tcorr = 5.80905284705\n",
      "MCMC sampler generated  800000  samples using 200  walkers\n",
      "with step acceptance ratio of 0.6608525\n"
     ]
    }
   ],
   "source": [
    "s2_0 = 0.05**2; \n",
    "ipar_active = np.array([1, 1, 0])\n",
    "\n",
    "chain, Rval, nthin = mcmc_fit(x, y, ex, ey, pini=[m0, c0, s2_0], \n",
    "                              ipar_active=ipar_active, nwalkers=nwalkers, modelpdf=line_fit_like)\n",
    "\n",
    "nburn = int(20*nwalkers*nthin)\n",
    "\n",
    "m = zip(*chain)[0]; c = zip(*chain)[1]; \n",
    "m_sfixed2 = m[nburn:]; c_sfixed2 = c[nburn:]; \n"
   ]
  },
  {
   "cell_type": "markdown",
   "metadata": {},
   "source": [
    "Now let's fit with scatter free"
   ]
  },
  {
   "cell_type": "code",
   "execution_count": 9,
   "metadata": {
    "collapsed": false
   },
   "outputs": [
    {
     "name": "stdout",
     "output_type": "stream",
     "text": [
      "starting sampling with 3 active parameters of the total 3 parameters\n",
      "nchain= 1000\n",
      "R values for parameters: [ 1.03232507  1.03664621  1.0045536 ]\n",
      "tcorr = 34.3077965406\n",
      "nchain= 2000\n",
      "R values for parameters: [ 1.01585951  1.01867784  1.00222362]\n",
      "tcorr = 32.4389875691\n",
      "nchain= 3000\n",
      "R values for parameters: [ 1.01074011  1.01400868  1.00157934]\n",
      "tcorr = 34.0078869582\n",
      "nchain= 4000\n",
      "R values for parameters: [ 1.00831161  1.01054336  1.00132826]\n",
      "tcorr = 32.9523583592\n",
      "nchain= 5000\n",
      "R values for parameters: [ 1.00604916  1.00785842  1.0011653 ]\n",
      "tcorr = 32.6300047229\n",
      "MCMC sampler generated  1000000  samples using 200  walkers\n",
      "with step acceptance ratio of 0.56209\n"
     ]
    },
    {
     "name": "stderr",
     "output_type": "stream",
     "text": [
      "C:\\Users\\h2_sf\\AppData\\Local\\Enthought\\Canopy\\User\\lib\\site-packages\\ipykernel\\__main__.py:51: RuntimeWarning: invalid value encountered in sqrt\n",
      "C:\\Users\\h2_sf\\AppData\\Local\\Enthought\\Canopy\\User\\lib\\site-packages\\ipykernel\\__main__.py:55: RuntimeWarning: invalid value encountered in greater\n",
      "C:\\Users\\h2_sf\\AppData\\Local\\Enthought\\Canopy\\User\\lib\\site-packages\\ipykernel\\__main__.py:60: RuntimeWarning: invalid value encountered in greater\n"
     ]
    }
   ],
   "source": [
    "# m, c, sigma^2 [dex] - initial values\n",
    "s2_0 = 0.05; \n",
    "ipar_active = np.array([1, 1, 1])\n",
    "\n",
    "chain, Rval, nthin = mcmc_fit(x, y, ex, ey, pini=[m0, c0, s2_0], \n",
    "                              ipar_active=ipar_active, nwalkers=nwalkers, modelpdf=line_fit_like)\n",
    "\n",
    "nburn = int(20*nwalkers*nthin)\n",
    "\n",
    "m = zip(*chain)[0]; c = zip(*chain)[1]; s = np.sqrt(zip(*chain)[2])\n",
    "m_sfree = m[nburn:]; c_sfree = c[nburn:]; s_sfree = s[nburn:]\n"
   ]
  },
  {
   "cell_type": "markdown",
   "metadata": {},
   "source": [
    "Let's plot results."
   ]
  },
  {
   "cell_type": "code",
   "execution_count": 22,
   "metadata": {
    "collapsed": true
   },
   "outputs": [],
   "source": [
    "def sgolay2d ( z, window_size, order, derivative=None):\n",
    "    \"\"\"\n",
    "    \"\"\"\n",
    "    from scipy.signal import fftconvolve\n",
    "    # number of terms in the polynomial expression\n",
    "    n_terms = ( order + 1 ) * ( order + 2)  / 2.0\n",
    "    \n",
    "    if  window_size % 2 == 0:\n",
    "        raise ValueError('window_size must be odd')\n",
    "    \n",
    "    if window_size**2 < n_terms:\n",
    "        raise ValueError('order is too high for the window size')\n",
    "\n",
    "    half_size = window_size // 2\n",
    "    \n",
    "    # exponents of the polynomial. \n",
    "    # p(x,y) = a0 + a1*x + a2*y + a3*x^2 + a4*y^2 + a5*x*y + ... \n",
    "    # this line gives a list of two item tuple. Each tuple contains \n",
    "    # the exponents of the k-th term. First element of tuple is for x\n",
    "    # second element for y.\n",
    "    # Ex. exps = [(0,0), (1,0), (0,1), (2,0), (1,1), (0,2), ...]\n",
    "    exps = [ (k-n, n) for k in range(order+1) for n in range(k+1) ]\n",
    "    \n",
    "    # coordinates of points\n",
    "    ind = np.arange(-half_size, half_size+1, dtype=np.float64)\n",
    "    dx = np.repeat( ind, window_size )\n",
    "    dy = np.tile( ind, [window_size, 1]).reshape(window_size**2, )\n",
    "\n",
    "    # build matrix of system of equation\n",
    "    A = np.empty( (window_size**2, len(exps)) )\n",
    "    for i, exp in enumerate( exps ):\n",
    "        A[:,i] = (dx**exp[0]) * (dy**exp[1])\n",
    "        \n",
    "    # pad input array with appropriate values at the four borders\n",
    "    new_shape = z.shape[0] + 2*half_size, z.shape[1] + 2*half_size\n",
    "    Z = np.zeros( (new_shape) )\n",
    "    # top band\n",
    "    band = z[0, :]\n",
    "    Z[:half_size, half_size:-half_size] =  band -  np.abs( np.flipud( z[1:half_size+1, :] ) - band )\n",
    "    # bottom band\n",
    "    band = z[-1, :]\n",
    "    Z[-half_size:, half_size:-half_size] = band  + np.abs( np.flipud( z[-half_size-1:-1, :] )  -band ) \n",
    "    # left band\n",
    "    band = np.tile( z[:,0].reshape(-1,1), [1,half_size])\n",
    "    Z[half_size:-half_size, :half_size] = band - np.abs( np.fliplr( z[:, 1:half_size+1] ) - band )\n",
    "    # right band\n",
    "    band = np.tile( z[:,-1].reshape(-1,1), [1,half_size] )\n",
    "    Z[half_size:-half_size, -half_size:] =  band + np.abs( np.fliplr( z[:, -half_size-1:-1] ) - band )\n",
    "    # central band\n",
    "    Z[half_size:-half_size, half_size:-half_size] = z\n",
    "    \n",
    "    # top left corner\n",
    "    band = z[0,0]\n",
    "    Z[:half_size,:half_size] = band - np.abs( np.flipud(np.fliplr(z[1:half_size+1,1:half_size+1]) ) - band )\n",
    "    # bottom right corner\n",
    "    band = z[-1,-1]\n",
    "    Z[-half_size:,-half_size:] = band + np.abs( np.flipud(np.fliplr(z[-half_size-1:-1,-half_size-1:-1]) ) - band ) \n",
    "    \n",
    "    # top right corner\n",
    "    band = Z[half_size,-half_size:]\n",
    "    Z[:half_size,-half_size:] = band - np.abs( np.flipud(Z[half_size+1:2*half_size+1,-half_size:]) - band ) \n",
    "    # bottom left corner\n",
    "    band = Z[-half_size:,half_size].reshape(-1,1)\n",
    "    Z[-half_size:,:half_size] = band - np.abs( np.fliplr(Z[-half_size:, half_size+1:2*half_size+1]) - band ) \n",
    "    \n",
    "    # solve system and convolve\n",
    "    if derivative == None:\n",
    "        m = np.linalg.pinv(A)[0].reshape((window_size, -1))\n",
    "        return fftconvolve(Z, m, mode='valid')\n",
    "    elif derivative == 'col':\n",
    "        c = np.linalg.pinv(A)[1].reshape((window_size, -1))\n",
    "        return fftconvolve(Z, -c, mode='valid')        \n",
    "    elif derivative == 'row':\n",
    "        r = np.linalg.pinv(A)[2].reshape((window_size, -1))\n",
    "        return fftconvolve(Z, -r, mode='valid')        \n",
    "    elif derivative == 'both':\n",
    "        c = np.linalg.pinv(A)[1].reshape((window_size, -1))\n",
    "        r = np.linalg.pinv(A)[2].reshape((window_size, -1))\n",
    "        return fftconvolve(Z, -r, mode='valid'), fftconvolve(Z, -c, mode='valid')        "
   ]
  },
  {
   "cell_type": "code",
   "execution_count": 117,
   "metadata": {
    "collapsed": true
   },
   "outputs": [],
   "source": [
    "import scipy.optimize as opt\n",
    "from matplotlib.colors import LogNorm\n",
    "\n",
    "def conf_interval(x, pdf, conf_level):\n",
    "    return np.sum(pdf[pdf > x])-conf_level\n",
    "\n",
    "def plot_2d_dist(x,y, xlim,ylim,nxbins,nybins, weights=None, xlabel='x',ylabel='y', clevs=None, smooth=None, fig_setup=None, savefig=None):\n",
    "    if fig_setup == None:\n",
    "        fig, ax = plt.subplots(figsize=(2.5, 2.5))\n",
    "        #ax = plt.add_subplot(1,1,1)\n",
    "        plt.ylabel(ylabel)\n",
    "        plt.xlabel(xlabel)\n",
    "        plt.xlim(xlim[0], xlim[1])\n",
    "        plt.ylim(ylim[0], ylim[1])\n",
    "    else:\n",
    "        ax = fig_setup\n",
    "        ax.set_xlabel(xlabel)\n",
    "        ax.set_ylabel(ylabel)\n",
    "        ax.set_xlim(xlim); ax.set_ylim(ylim)\n",
    "    #\n",
    "    if xlim[1] < 0.: ax.invert_xaxis()\n",
    "\n",
    "    if weights == None: weights = np.ones_like(x)\n",
    "    H, xbins, ybins = np.histogram2d(x, y, weights=weights, bins=(np.linspace(xlim[0], xlim[1], nxbins),np.linspace(ylim[0], ylim[1], nybins)))\n",
    "    \n",
    "    H = np.rot90(H); H = np.flipud(H); \n",
    "             \n",
    "    X,Y = np.meshgrid(xbins,ybins) \n",
    "    if smooth != None:\n",
    "        #from scipy.stats import gaussian_kde\n",
    "        #from sklearn.neighbors import KernelDensity\n",
    "        #xscale = np.absolute(xlim[1]-xlim[0]); yscale = np.absolute(ylim[1]-ylim[0])\n",
    "        #values = np.vstack([(x-xlim[0])/xscale,(y-ylim[0])/yscale])\n",
    "        #Xd = (X-xlim[0])/xscale; Yd = (Y-ylim[0])/yscale\n",
    "        #XY = np.vstack([Xd.ravel(), Yd.ravel()])\n",
    "    \n",
    "        #hsmooth = 2.*xscale/nxbins\n",
    "        #kde = KernelDensity(kernel='gaussian', bandwidth=hsmooth, algorithm='kd_tree').fit(values.T)\n",
    "        #H = kde.score_samples(XY.T)\n",
    "        #H = np.reshape(H, Xd.shape)\n",
    "        from scipy.signal import wiener\n",
    "        H = wiener(H, mysize=3)\n",
    "        H = sgolay2d( H, window_size=9, order=4)\n",
    "\n",
    "\n",
    "        #kde = gaussian_kde(values, bw_method=kde_smooth) \n",
    "        #H = np.reshape(kde(XY).T, X.shape)\n",
    "\n",
    "    H = H/np.sum(H)        \n",
    "    Hmask = np.ma.masked_where(H==0,H)\n",
    "    \n",
    "    pcol = ax.pcolormesh(X,Y,(Hmask), vmin=1.e-4*np.max(Hmask), cmap=plt.cm.BuPu, norm = LogNorm(), linewidth=0., rasterized=True)\n",
    "    pcol.set_edgecolor('face')\n",
    "\n",
    "    if clevs != None:\n",
    "        lvls = []\n",
    "        for cld in clevs:  \n",
    "            sig = opt.brentq( conf_interval, 0., 1., args=(H,cld) )   \n",
    "            lvls.append(sig)\n",
    "                   \n",
    "        ax.contour(H, linewidths=(1.0,0.75, 0.5, 0.25), colors='black', levels = lvls, \n",
    "                    norm = LogNorm(), extent = [xbins[0], xbins[-1], ybins[0], ybins[-1]])\n",
    "    if savefig:\n",
    "        plt.savefig(savefig,bbox_inches='tight')\n",
    "    if fig_setup == None:\n",
    "        plt.show()\n",
    "    return\n"
   ]
  },
  {
   "cell_type": "code",
   "execution_count": 118,
   "metadata": {
    "collapsed": false
   },
   "outputs": [
    {
     "data": {
      "image/png": "[encoded data removed]",
      "text/plain": [
       "<matplotlib.figure.Figure at 0x12970d30>"
      ]
     },
     "metadata": {},
     "output_type": "display_data"
    },
    {
     "name": "stdout",
     "output_type": "stream",
     "text": [
      "time taken by smoothing=0.24\n"
     ]
    },
    {
     "data": {
      "image/png": "[encoded data removed]",
      "text/plain": [
       "<matplotlib.figure.Figure at 0x136b6f98>"
      ]
     },
     "metadata": {},
     "output_type": "display_data"
    },
    {
     "name": "stdout",
     "output_type": "stream",
     "text": [
      "============ fixed scatter s=0 ==================\n",
      "best fit slope:\n",
      "mean, median = 3.740, 3.739, st.dev=0.1056\n",
      "68perc interval = 3.636, 3.845\n",
      "95perc interval = 3.535, 3.952\n",
      " \n",
      "best fit normalization (pivoted) to  9.60998781465\n",
      "mean, median = -0.056, -0.056, st.dev=0.0120\n",
      "68perc interval = -0.068, -0.044\n",
      "95perc interval = -0.080, -0.032\n",
      " \n",
      "============ fixed scatter s=0.05 ==================\n",
      "best fit slope:\n",
      "mean, median = 4.218, 4.207, st.dev=0.2403\n",
      "68perc interval = 3.982, 4.453\n",
      "95perc interval = 3.774, 4.723\n",
      " \n",
      "best fit normalization (pivoted) to  9.60998781465\n",
      "mean, median = -0.057, -0.057, st.dev=0.0259\n",
      "68perc interval = -0.082, -0.031\n",
      "95perc interval = -0.108, -0.006\n",
      " \n",
      "============ free scatter ==================\n",
      "best fit slope:\n",
      "mean, median = 4.191, 4.179, st.dev=0.2246\n",
      "68perc interval = 3.975, 4.407\n",
      "95perc interval = 3.777, 4.672\n",
      " \n",
      "best fit normalization (pivoted) to  9.60998781465\n",
      "mean, median = -0.058, -0.058, st.dev=0.0241\n",
      "68perc interval = -0.081, -0.034\n",
      "95perc interval = -0.106, -0.009\n",
      " \n",
      "best fit scatter:\n",
      "mean, median = 0.047, 0.046, st.dev=0.0049\n",
      "68perc interval = 0.042, 0.051\n",
      "95perc interval = 0.037, 0.057\n",
      " \n"
     ]
    }
   ],
   "source": [
    "\n",
    "mlim = [0.9*np.min(m_sfree), np.max(m_sfree)]\n",
    "clim = [np.min(c_sfree), np.max(c_sfree)]\n",
    "slim = [np.min(s_sfree), np.max(s_sfree)]\n",
    "clevs = (0.683, 0.955, 0.997) #np.linspace(0.2,0.95,4)\n",
    "\n",
    "fig, ax = plt.subplots(1,3, figsize=(6.,2.))\n",
    "    \n",
    "plt.tight_layout(); plt.rc('font',size=9)\n",
    "fig.subplots_adjust(hspace=1.7)\n",
    "\n",
    "plot_2d_dist(m_sfixed, c_sfixed, xlim=mlim, ylim=clim, nxbins=41, nybins=41, clevs=clevs, \n",
    "             xlabel=r'$\\mathrm{slope}$', ylabel=r'$\\mathrm{normalization}$', fig_setup=ax[0])\n",
    "ax[0].grid()\n",
    "plot_2d_dist(m_sfixed2, c_sfixed2, xlim=mlim, ylim=clim, nxbins=41, nybins=41, clevs=clevs,\n",
    "             xlabel=r'$\\mathrm{slope}$', ylabel='', fig_setup=ax[1])\n",
    "\n",
    "ax[2].yaxis.set_label_position('right')\n",
    "plot_2d_dist(m_sfree, c_sfree, xlim=mlim, ylim=clim, nxbins=41, nybins=41, clevs=clevs,\n",
    "             xlabel=r'$\\mathrm{slope}$', ylabel=r'$\\mathrm{normalization}$', fig_setup=ax[2])\n",
    "\n",
    "plt.show()\n",
    "\n",
    "# let's plot the scatter\n",
    "fig, ax = plt.subplots(1,2,figsize=(4.,2.))\n",
    "plt.tight_layout(); plt.rc('font',size=9)\n",
    "fig.subplots_adjust(hspace=1.7)\n",
    "\n",
    "plot_2d_dist(m_sfree, s_sfree, xlim=mlim, ylim=slim, nxbins=41, nybins=41, clevs=clevs, \n",
    "             xlabel=r'$\\mathrm{slope}$', ylabel=r'$\\mathrm{scatter}$',  fig_setup=ax[0])\n",
    "ax[0].grid()\n",
    "ax[0].set_title(r'$\\mathrm{no\\ smoothing}$',fontsize=10)\n",
    "from time import time\n",
    "hsmooth = 0.025\n",
    "t1 = time()\n",
    "ax[1].yaxis.set_label_position('right')\n",
    "plot_2d_dist(m_sfree, s_sfree, xlim=mlim, ylim=slim, nxbins=41, nybins=41, clevs=clevs, \n",
    "             xlabel=r'$\\mathrm{slope}$', ylabel=r'$\\mathrm{scatter}$', smooth=hsmooth, fig_setup=ax[1])\n",
    "ax[1].set_title(r'$\\mathrm{SG+Wiener\\ smoothing}$', fontsize=10)\n",
    "t2 = time()\n",
    "print \"time taken by smoothing=%.2f\"%(t2-t1)\n",
    "ax[1].grid()\n",
    "plt.show()\n",
    "\n",
    "# print some numbers\n",
    "def pstats(x):\n",
    "    xmed = np.median(x); xm = np.mean(x); xsd = np.std(x)\n",
    "    xcfl11 = np.percentile(x,16); xcfl12 = np.percentile(x,84)\n",
    "    xcfl21 = np.percentile(x,2.5); xcfl22 = np.percentile(x,97.5)\n",
    "\n",
    "    print 'mean, median = %.3f, %.3f, st.dev=%.4f'%(xm, xmed, xsd)\n",
    "    print '68perc interval = %.3f, %.3f'%(xcfl11,xcfl12)\n",
    "    print '95perc interval = %.3f, %.3f'%(xcfl21,xcfl22)\n",
    "    print ' '\n",
    "    \n",
    "print \"============ fixed scatter s=0 ==================\"\n",
    "print \"best fit slope:\" \n",
    "pstats(m_sfixed)\n",
    "print \"best fit normalization (pivoted) to \",ay\n",
    "pstats(c_sfixed)\n",
    "print \"============ fixed scatter s=0.05 ==================\"\n",
    "print \"best fit slope:\"\n",
    "pstats(m_sfixed2)\n",
    "print \"best fit normalization (pivoted) to \",ay\n",
    "pstats(c_sfixed2)\n",
    "print \"============ free scatter ==================\"\n",
    "print \"best fit slope:\"\n",
    "pstats(m_sfree)\n",
    "print \"best fit normalization (pivoted) to \",ay\n",
    "pstats(c_sfree)\n",
    "print \"best fit scatter:\"\n",
    "pstats(s_sfree)\n",
    "\n",
    "m_med = np.median(m_sfree); c_med = np.median(c_sfree)\n"
   ]
  },
  {
   "cell_type": "markdown",
   "metadata": {
    "collapsed": true
   },
   "source": [
    "### now with AstroML routines"
   ]
  },
  {
   "cell_type": "markdown",
   "metadata": {},
   "source": [
    "Code below is adopted from AstroML <a href=\"http://www.astroml.org/book_figures/chapter8/fig_total_least_squares.html#book-fig-chapter8-fig-total-least-squares\">website</a>. See their likelihood function code <a href=\"https://github.com/astroML/astroML/blob/master/astroML/linear_model/TLS.py\">here</a>."
   ]
  },
  {
   "cell_type": "code",
   "execution_count": null,
   "metadata": {
    "collapsed": false
   },
   "outputs": [],
   "source": [
    "import numpy as np\n",
    "from scipy import optimize\n",
    "from matplotlib import pyplot as plt\n",
    "from matplotlib.patches import Ellipse\n",
    "\n",
    "from astroML.linear_model import TLS_logL\n",
    "from astroML.plotting.mcmc import convert_to_stdev\n",
    "\n",
    "sigma_x = ex\n",
    "sigma_y = ey\n",
    "rho_xy = 0.0\n",
    "\n",
    "# translate between typical slope-intercept representation,\n",
    "# and the normal vector representation\n",
    "def get_m_b(beta):\n",
    "    b = np.dot(beta, beta) / beta[1]\n",
    "    m = -beta[0] / beta[1]\n",
    "    return m, b\n",
    "\n",
    "\n",
    "def get_beta(m, b):\n",
    "    denom = (1 + m * m)\n",
    "    return np.array([-b * m / denom, b / denom])\n",
    "\n",
    "\n",
    "# compute the ellipse pricipal axes and rotation from covariance\n",
    "def get_principal(sigma_x, sigma_y, rho_xy):\n",
    "    sigma_xy2 = rho_xy * sigma_x * sigma_y\n",
    "\n",
    "    alpha = 0.5 * np.arctan2(2 * sigma_xy2,\n",
    "                             (sigma_x ** 2 - sigma_y ** 2))\n",
    "    tmp1 = 0.5 * (sigma_x ** 2 + sigma_y ** 2)\n",
    "    tmp2 = np.sqrt(0.25 * (sigma_x ** 2 - sigma_y ** 2) ** 2 + sigma_xy2 ** 2)\n",
    "\n",
    "    return np.sqrt(tmp1 + tmp2), np.sqrt(tmp1 - tmp2), alpha\n",
    "\n",
    "\n",
    "# plot ellipses\n",
    "def plot_ellipses(x, y, sigma_x, sigma_y, rho_xy, factor=2, ax=None):\n",
    "    if ax is None:\n",
    "        ax = plt.gca()\n",
    "\n",
    "    sigma1, sigma2, alpha = get_principal(sigma_x, sigma_y, rho_xy)\n",
    "\n",
    "    for i in range(len(x)):\n",
    "        ax.add_patch(Ellipse((x[i], y[i]),\n",
    "                             factor * sigma1[i], factor * sigma2[i],\n",
    "                             alpha[i] * 180. / np.pi,\n",
    "                             fc='none', ec='k'))\n",
    "\n",
    "\n",
    "#------------------------------------------------------------\n",
    "# Find best-fit parameters\n",
    "X = np.vstack((x, y)).T\n",
    "dX = np.zeros((len(x), 2, 2))\n",
    "dX[:, 0, 0] = sigma_x ** 2\n",
    "dX[:, 1, 1] = sigma_y ** 2\n",
    "dX[:, 0, 1] = dX[:, 1, 0] = rho_xy * sigma_x * sigma_y\n",
    "\n",
    "min_func = lambda beta: -TLS_logL(beta, X, dX)\n",
    "beta_fit = optimize.fmin(min_func,\n",
    "                         x0=[-1, 6.0])\n",
    "\n",
    "#------------------------------------------------------------\n",
    "# Plot the data and fits\n",
    "fig = plt.figure(figsize=(5, 2.5))\n",
    "fig.subplots_adjust(left=0.1, right=0.95, wspace=0.25,\n",
    "                    bottom=0.15, top=0.9)\n",
    "\n",
    "#------------------------------------------------------------\n",
    "# first let's visualize the data\n",
    "ax = fig.add_subplot(121)\n",
    "ax.scatter(x, y, c='k', s=9)\n",
    "plot_ellipses(x, y, sigma_x, sigma_y, rho_xy, ax=ax)\n",
    "\n",
    "#------------------------------------------------------------\n",
    "# plot the best-fit line\n",
    "m_fit, b_fit = get_m_b(beta_fit)\n",
    "x_fit = np.linspace(np.min(x), np.max(x), 10)\n",
    "print \"m_fit=%.3f  1/m_fit=%.3f\"%(m_fit,1./m_fit)\n",
    "ax.plot(x_fit, m_fit * x_fit + b_fit, '-k')\n",
    "\n",
    "ax.set_xlim(0.8*np.min(x), 1.2*np.max(x))\n",
    "ax.set_ylim(0.8*np.min(y), 1.2*np.max(y))\n",
    "ax.set_xlabel('$x$')\n",
    "ax.set_ylabel('$y$')\n",
    "\n",
    "#------------------------------------------------------------\n",
    "# plot the likelihood contour in m, b\n",
    "ax = fig.add_subplot(122)\n",
    "m = np.linspace(0.5*m_med, 2*m_med, 300)\n",
    "b = np.linspace(-0.1, 0.1, 300)\n",
    "logL = np.zeros((len(m), len(b)))\n",
    "\n",
    "for i in range(len(m)):\n",
    "    for j in range(len(b)):\n",
    "        logL[i, j] = TLS_logL(get_beta(m[i], b[j]), X, dX)\n",
    "\n",
    "ax.contour(m, b, convert_to_stdev(logL.T),\n",
    "           levels=(0.683, 0.955, 0.997),\n",
    "           colors='k')\n",
    "ax.set_xlabel('slope')\n",
    "ax.set_ylabel('intercept')\n",
    "ax.set_ylim(0.,-0.1)\n",
    "ax.set_xlim(3.3, 4.2)\n",
    "\n",
    "ax.grid()\n",
    "plt.show()"
   ]
  },
  {
   "cell_type": "markdown",
   "metadata": {},
   "source": [
    "The result here (slope of 3.74) should be compared to the case above of fixed scatter=0. The two are very similar"
   ]
  },
  {
   "cell_type": "markdown",
   "metadata": {},
   "source": [
    "#### Now fit the sample with kurtosis cut"
   ]
  },
  {
   "cell_type": "markdown",
   "metadata": {},
   "source": [
    "let's fit the sample with the same kurtosis cut as Papastergis et al."
   ]
  },
  {
   "cell_type": "code",
   "execution_count": null,
   "metadata": {
    "collapsed": false
   },
   "outputs": [],
   "source": []
  },
  {
   "cell_type": "code",
   "execution_count": null,
   "metadata": {
    "collapsed": false
   },
   "outputs": [],
   "source": [
    "# m, c, sigma^2 [dex] - initial values\n",
    "s2_0 = 0.05; \n",
    "ipar_active = np.array([1, 1, 1])\n",
    "\n",
    "chain, Rval, nthin = mcmc_fit(xkc, ykc, exkc, eykc, pini=[m0, c0, s2_0], \n",
    "                              ipar_active=ipar_active, nwalkers=nwalkers, modelpdf=line_fit_like)\n",
    "\n",
    "nburn = int(20*nwalkers*nthin)\n",
    "\n",
    "m = zip(*chain)[0]; c = zip(*chain)[1]; s = np.sqrt(zip(*chain)[2])\n",
    "m_skc = m[nburn:]; c_skc = c[nburn:]; s_skc = s[nburn:]\n"
   ]
  },
  {
   "cell_type": "code",
   "execution_count": null,
   "metadata": {
    "collapsed": false
   },
   "outputs": [],
   "source": [
    "mlim = [0.9*np.min(m_skc), np.max(m_skc)]\n",
    "clim = [np.min(c_skc), np.max(c_skc)]\n",
    "slim = [np.min(s_skc), np.max(s_skc)]\n",
    "\n",
    "fig, ax = plt.subplots(1,2, figsize=(4.,2.))\n",
    "    \n",
    "plt.tight_layout(); plt.rc('font',size=9)\n",
    "fig.subplots_adjust(hspace=1.7)\n",
    "\n",
    "plot_2d_dist(m_skc, c_skc, xlim=mlim, ylim=clim, nxbins=41, nybins=41, clevs=clevs, \n",
    "             xlabel=r'$\\mathrm{slope}$', ylabel=r'$\\mathrm{normalization}$', fig_setup=ax[0])\n",
    "\n",
    "ax[1].yaxis.set_label_position('right')\n",
    "plot_2d_dist(m_skc, s_skc, xlim=mlim, ylim=slim, nxbins=41, nybins=41, clevs=clevs, \n",
    "             xlabel=r'$\\mathrm{slope}$', ylabel=r'$\\mathrm{scatter}$', fig_setup=ax[1])\n",
    "plt.show()\n",
    "    \n",
    "print \"============ sample with kurtosis cut ==================\"\n",
    "print \"best fit slope:\"\n",
    "pstats(m_skc)\n",
    "print \"best fit normalization (pivoted) to \",ay\n",
    "pstats(c_skc)\n",
    "print \"best fit scatter:\"\n",
    "pstats(s_skc)\n",
    "\n"
   ]
  },
  {
   "cell_type": "markdown",
   "metadata": {},
   "source": [
    "finally, let's do the case of scatter fixed at 0"
   ]
  },
  {
   "cell_type": "code",
   "execution_count": null,
   "metadata": {
    "collapsed": false
   },
   "outputs": [],
   "source": [
    "# m, c, sigma^2 [dex] - initial values\n",
    "s2_0 = 0.0; \n",
    "ipar_active = np.array([1, 1, 0])\n",
    "\n",
    "chain, Rval, nthin = mcmc_fit(xkc, ykc, exkc, eykc, pini=[m0, c0, s2_0], \n",
    "                              ipar_active=ipar_active, nwalkers=nwalkers, modelpdf=line_fit_like)\n",
    "\n",
    "nburn = int(20*nwalkers*nthin)\n",
    "\n",
    "m = zip(*chain)[0]; c = zip(*chain)[1]; \n",
    "m_skc = m[nburn:]; c_skc = c[nburn:]; "
   ]
  },
  {
   "cell_type": "code",
   "execution_count": null,
   "metadata": {
    "collapsed": false
   },
   "outputs": [],
   "source": [
    "mlim = [0.9*np.min(m_skc), 1.1*np.max(m_skc)]\n",
    "clim = [np.min(c_skc), np.max(c_skc)]\n",
    "slim = [np.min(s_skc), np.max(s_skc)]\n",
    "\n",
    "fig, ax = plt.subplots(figsize=(2.,2.))\n",
    "    \n",
    "plt.tight_layout(); plt.rc('font',size=9)\n",
    "fig.subplots_adjust(hspace=1.7)\n",
    "\n",
    "plot_2d_dist(m_skc, c_skc, xlim=mlim, ylim=clim, nxbins=41, nybins=41, clevs=clevs, \n",
    "             xlabel=r'$\\mathrm{slope}$', ylabel=r'$\\mathrm{normalization}$', fig_setup=ax)\n",
    "\n",
    "plt.show()\n",
    "    \n",
    "print \"============ sample with kurtosis cut, scatter fixed at s=0 ==================\"\n",
    "print \"best fit slope:\"\n",
    "pstats(m_skc)\n",
    "print \"best fit normalization (pivoted) to \",ay\n",
    "pstats(c_skc)\n"
   ]
  },
  {
   "cell_type": "markdown",
   "metadata": {},
   "source": [
    "Now let's look at how results will change if we use likelihood in the vertical direction a la d'Agostini (2005) and Kelly (2007)."
   ]
  },
  {
   "cell_type": "code",
   "execution_count": null,
   "metadata": {
    "collapsed": false
   },
   "outputs": [],
   "source": [
    "# m, c, sigma^2 [dex] - initial values\n",
    "m0=4.0; c0=0.1; s2_0 = 0.04; \n",
    "ipar_active = np.array([1, 1, 1])\n",
    "\n",
    "chain, Rval, nthin = mcmc_fit(xkc, ykc, exkc, eykc, pini=[m0, c0, s2_0], \n",
    "                              ipar_active=ipar_active, nwalkers=nwalkers, \n",
    "                              modelpdf=line_fit_vert_like)\n",
    "\n",
    "nburn = int(20*nwalkers*nthin)\n",
    "\n",
    "m = zip(*chain)[0]; c = zip(*chain)[1]; \n",
    "m_skc = m[nburn:]; c_skc = c[nburn:]; "
   ]
  },
  {
   "cell_type": "code",
   "execution_count": null,
   "metadata": {
    "collapsed": true
   },
   "outputs": [],
   "source": [
    "mlim = [0.9*np.min(m_skc), 1.1*np.max(m_skc)]\n",
    "clim = [np.min(c_skc), np.max(c_skc)]\n",
    "slim = [np.min(s_skc), np.max(s_skc)]\n",
    "\n",
    "fig, ax = plt.subplots(figsize=(2.,2.))\n",
    "    \n",
    "plt.tight_layout(); plt.rc('font',size=9)\n",
    "fig.subplots_adjust(hspace=1.7)\n",
    "\n",
    "plot_2d_dist(m_skc, c_skc, xlim=mlim, ylim=clim, nxbins=41, nybins=41, clevs=clevs, \n",
    "             xlabel=r'$\\mathrm{slope}$', ylabel=r'$\\mathrm{normalization}$', fig_setup=ax)\n",
    "\n",
    "plt.show()\n",
    "    \n",
    "print \"============ sample with kurtosis cut, scatter fixed at s=0 ==================\"\n",
    "print \"best fit slope:\"\n",
    "pstats(m_skc)\n",
    "print \"best fit normalization (pivoted) to \",ay\n",
    "pstats(c_skc)\n"
   ]
  },
  {
   "cell_type": "markdown",
   "metadata": {
    "collapsed": true
   },
   "source": [
    "### Bradford et al. 2016 sample"
   ]
  },
  {
   "cell_type": "code",
   "execution_count": null,
   "metadata": {
    "collapsed": false
   },
   "outputs": [],
   "source": [
    "# \n",
    "# read in Bradford, Geha & Blanton M* and MHI\n",
    "# \n",
    "w20b, ew20b, mbHI, embHI, mbs, embs =np.loadtxt(\"data/bradford_etal15_table1.txt\",\n",
    "                                   usecols=(10,11,14,15,16,17), unpack=True)\n",
    "mbHI = np.log10(mbHI) + np.log10(1.4) + 9.0; mbs = np.log10(mbs) + 9.0\n",
    "mbbar = np.power(10.,mbs) + np.power(10.,mbHI)\n",
    "embar = np.sqrt(np.square(1.4*embHI*1.e9) + np.square(embs*1.e9))\n",
    "\n",
    "iews = w20b < ew20b; ex = np.zeros_like(ew20b)\n",
    "iewl = w20b > ew20b\n",
    "iwz = ew20b == 0; \n",
    "ex[iews] = ew20b[iews]/(w20b[iews]*np.log(10.))\n",
    "ex[iewl] = 0.5*np.log10((ew20b[iewl]+w20b[iewl])/(w20b[iewl]-ew20b[iewl]))\n",
    "ex[iwz] = 0.001\n",
    "iems = mbbar < embar; ey = np.zeros_like(embar)\n",
    "ieml = mbbar > embar\n",
    "ey[iems] = embar[iems]/(mbbar[iems]*np.log(10.))\n",
    "ey[ieml] = 0.5*np.log10((embar[ieml]+mbbar[ieml])/(mbbar[ieml]-ew20b[ieml]))\n",
    "\n",
    "x = np.log10(w20b); \n",
    "y = np.log10(mbbar); \n",
    "ax = np.sum(x/ex**2.0)/np.sum(1./ex**2.0); ay = np.sum(y/ey**2.0)/np.sum(1./ey**2.0)\n",
    "x = x - ax; y = y - ay"
   ]
  },
  {
   "cell_type": "code",
   "execution_count": null,
   "metadata": {
    "collapsed": false,
    "scrolled": false
   },
   "outputs": [],
   "source": [
    "import pyfits\n",
    "bf1 = pyfits.open('data/figure_1_bradford_2016.fits')[1].data\n",
    "bf1h = pyfits.open('data/figure_1_bradford_2016.fits')[1].header\n",
    "#print bf1h\n",
    "\n",
    "mbbar = bf1['MBARYON']; embar = bf1['MBARYON_ERR']\n",
    "w20b = bf1['VW20I']; ew20b = bf1['VW20I_ERR']\n",
    "\n",
    "iews = w20b < ew20b; ex = np.zeros_like(ew20b)\n",
    "iewl = w20b > ew20b\n",
    "iwz = ew20b == 0; \n",
    "ex[iews] = ew20b[iews]/(w20b[iews]*np.log(10.))\n",
    "ex[iewl] = 0.5*np.log10((ew20b[iewl]+w20b[iewl])/(w20b[iewl]-ew20b[iewl]))\n",
    "ex[iwz] = 0.001\n",
    "\n",
    "x = np.log10(w20b); \n",
    "y = mbbar; ey = embar \n",
    "ax = np.sum(x/ex**2.0)/np.sum(1./ex**2.0); ay = np.sum(y/ey**2.0)/np.sum(1./ey**2.0)\n",
    "x = x - ax; y = y - ay\n"
   ]
  },
  {
   "cell_type": "code",
   "execution_count": null,
   "metadata": {
    "collapsed": false
   },
   "outputs": [],
   "source": [
    "nwalkers = 100\n",
    "# m, c, sigma^2 [dex] - initial values\n",
    "m0 = 4.; c = 0.; s2_0 = 0.05; \n",
    "ipar_active = np.array([1, 1, 1])\n",
    "\n",
    "chain, Rval, nthin = mcmc_fit(x, y, ex, ey, pini=[m0, c0, s2_0], \n",
    "                              ipar_active=ipar_active, nwalkers=nwalkers, \n",
    "                              modelpdf=line_fit_like)\n",
    "\n",
    "nburn = int(20*nwalkers*nthin)\n",
    "\n",
    "m = zip(*chain)[0]; c = zip(*chain)[1]; s = np.sqrt(zip(*chain)[2])\n",
    "m_sfree = m[nburn:]; c_sfree = c[nburn:]; s_sfree = s[nburn:]\n"
   ]
  },
  {
   "cell_type": "code",
   "execution_count": null,
   "metadata": {
    "collapsed": false
   },
   "outputs": [],
   "source": [
    "mlim = [0.9*np.min(m_sfree), np.max(m_sfree)]\n",
    "clim = [np.min(c_sfree), np.max(c_sfree)]\n",
    "slim = [np.min(s_sfree), np.max(s_sfree)]\n",
    "\n",
    "fig, ax = plt.subplots(1,2, figsize=(4.,2.))\n",
    "    \n",
    "plt.tight_layout(); plt.rc('font',size=9)\n",
    "fig.subplots_adjust(hspace=1.7)\n",
    "\n",
    "plot_2d_dist(m_sfree, c_sfree, xlim=mlim, ylim=clim, nxbins=41, nybins=41, clevs=clevs, \n",
    "             xlabel=r'$\\mathrm{slope}$', ylabel=r'$\\mathrm{normalization}$', fig_setup=ax[0])\n",
    "\n",
    "ax[1].yaxis.set_label_position('right')\n",
    "plot_2d_dist(m_sfree, s_sfree, xlim=mlim, ylim=slim, nxbins=41, nybins=41, clevs=clevs, \n",
    "             xlabel=r'$\\mathrm{slope}$', ylabel=r'$\\mathrm{scatter}$', fig_setup=ax[1])\n",
    "plt.show()\n",
    "    \n",
    "print \"============ Bradford et al. BTFR sample perpendicular likelihood ==================\"\n",
    "print \"best fit slope:\"\n",
    "pstats(m_sfree)\n",
    "print \"best fit normalization (pivoted) to \",ay\n",
    "pstats(c_sfree)\n",
    "print \"best fit scatter:\"\n",
    "pstats(s_sfree)"
   ]
  },
  {
   "cell_type": "code",
   "execution_count": null,
   "metadata": {
    "collapsed": false
   },
   "outputs": [],
   "source": [
    "nwalkers = 100\n",
    "# m, c, sigma^2 [dex] - initial values\n",
    "m0 = 4.; c0 = 0.; s2_0 = 0.05; \n",
    "ipar_active = np.array([1, 1, 1])\n",
    "\n",
    "chain, Rval, nthin = mcmc_fit(x, y, ex, ey, pini=[m0, c0, s2_0], \n",
    "                              ipar_active=ipar_active, nwalkers=nwalkers, \n",
    "                              modelpdf=line_fit_vert_like)\n",
    "\n",
    "nburn = int(20*nwalkers*nthin)\n",
    "\n",
    "m = zip(*chain)[0]; c = zip(*chain)[1]; s = np.sqrt(zip(*chain)[2])\n",
    "m_sfree = m[nburn:]; c_sfree = c[nburn:]; s_sfree = s[nburn:]\n"
   ]
  },
  {
   "cell_type": "code",
   "execution_count": null,
   "metadata": {
    "collapsed": false
   },
   "outputs": [],
   "source": [
    "mlim = [0.9*np.min(m_sfree), np.max(m_sfree)]\n",
    "clim = [np.min(c_sfree), np.max(c_sfree)]\n",
    "slim = [np.min(s_sfree), np.max(s_sfree)]\n",
    "\n",
    "fig, ax = plt.subplots(1,2, figsize=(4.,2.))\n",
    "    \n",
    "plt.tight_layout(); plt.rc('font',size=9)\n",
    "fig.subplots_adjust(hspace=1.7)\n",
    "\n",
    "plot_2d_dist(m_sfree, c_sfree, xlim=mlim, ylim=clim, nxbins=41, nybins=41, clevs=clevs, \n",
    "             xlabel=r'$\\mathrm{slope}$', ylabel=r'$\\mathrm{normalization}$', fig_setup=ax[0])\n",
    "\n",
    "ax[1].yaxis.set_label_position('right')\n",
    "plot_2d_dist(m_sfree, s_sfree, xlim=mlim, ylim=slim, nxbins=41, nybins=41, clevs=clevs, \n",
    "             xlabel=r'$\\mathrm{slope}$', ylabel=r'$\\mathrm{scatter}$', fig_setup=ax[1])\n",
    "plt.show()\n",
    "    \n",
    "print \"============ Bradford et al. sample with vert. likelihood  ==================\"\n",
    "print \"best fit slope:\"\n",
    "pstats(m_sfree)\n",
    "print \"best fit normalization (pivoted) to \",ay\n",
    "pstats(c_sfree)\n",
    "print \"best fit scatter:\"\n",
    "pstats(s_sfree)"
   ]
  },
  {
   "cell_type": "code",
   "execution_count": null,
   "metadata": {
    "collapsed": false
   },
   "outputs": [],
   "source": [
    "print np.shape(x)"
   ]
  },
  {
   "cell_type": "code",
   "execution_count": null,
   "metadata": {
    "collapsed": true
   },
   "outputs": [],
   "source": []
  }
 ],
 "metadata": {
  "kernelspec": {
   "display_name": "Python 2",
   "language": "python",
   "name": "python2"
  },
  "language_info": {
   "codemirror_mode": {
    "name": "ipython",
    "version": 2
   },
   "file_extension": ".py",
   "mimetype": "text/x-python",
   "name": "python",
   "nbconvert_exporter": "python",
   "pygments_lexer": "ipython2",
   "version": "2.7.10"
  }
 },
 "nbformat": 4,
 "nbformat_minor": 0
}
